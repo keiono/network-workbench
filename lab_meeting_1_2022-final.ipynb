{
 "cells": [
  {
   "cell_type": "markdown",
   "id": "a0db260a-fa71-476b-afb4-025a8a88af03",
   "metadata": {},
   "source": [
    "# Overview of Graph Analysis and Visualization Tools in Cytoscape/Notebook Ecosystem\n",
    "\n",
    "![title](https://www.timlrx.com/_next/image?url=%2Fstatic%2Fimg%2Fgraph_libraries.png&w=3840&q=75)\n",
    "\n",
    "[(Image from this page)](https://www.timlrx.com/blog/benchmark-of-popular-graph-network-packages-v2)\n",
    "\n",
    "### Lab Meeting (1/26/2022)\n",
    "Keiichiro Ono: Ideker Lab Software Team kono@ucsd.edu\n",
    "\n",
    "# TL;DR (Summary / take-home messages)\n",
    "- There is no \"one-size-fits-all\" solution for biological network analysis and visualization\n",
    "    - Combination of multiple tools/libraries is necessary\n",
    "    - You need to use multiple tools for data wrangling and conversion\n",
    "- Use efficient library optimized for multi-core environment\n",
    "- Interacvtive style editing in notebook environment is desirable, but not available (yet)\n",
    "- Because of these small, but annoying barriers/problems, there is room for new small toolkits\n",
    "    - Interactive style editor in the notebook environment\n",
    "    - _True_ portable network style format\n",
    "        - Believe or not, there is no such thing in network visualization data formats\n",
    "- Plotly Dash ecosystem is a great way to create simple dashboard, or even web applications for publication\n",
    "    - No JavaScript/TypeScript coding is required to create simple data dashboard\n",
    "\n",
    "# Theme: Network visualization workflow without the desktop application\n",
    "**What does the workflow look like if we fully move to the web (service-based) environment?**\n",
    "\n",
    "----\n",
    "\n",
    "## Important Notice: this is a survey, not a final product from our team\n",
    "\n",
    "----\n",
    "\n",
    "# Background\n",
    "\n",
    "### Software team is still in the middle of the transition from desktop-application-centric world to the web-based ecosystem for biological network analysis and visualization.\n",
    "\n",
    "This presentation is a **survay / tutorial** of extinting tools and libraries available now and discuss missing pieces to build easy-to-use pipeline for network visualization.\n",
    "\n",
    "- We need to support both:\n",
    "    - Casual users\n",
    "    - Advanced users (bioinformaticians)\n",
    "        - Analyze graph structure with scripts\n",
    "        - Implement new algorithms on top of existing graph libraries\n",
    "- **This workflow is for advanced users who can write some Python code**\n",
    "\n",
    "## Topics Covered\n",
    "\n",
    "#### This presentation is for Python ecosystem only\n",
    "(R/Julia/Rust/JS has different toolchains, and maybe covered in future tutorial sessions)\n",
    "\n",
    "- Search & import data directly from NDEx\n",
    "- Convert CX to popular libraries' data formats\n",
    "- Analyze network with some popular libraries\n",
    "- Visualization\n",
    "    - Static (publication-ready) images\n",
    "    - Interactive cells\n",
    "    - Rapid dashboard development\n",
    "\n",
    "## Tools and Libraries\n",
    "- [NDEx2 Python client](https://ndex2.readthedocs.io/en/latest/)\n",
    "- [JupyterLab](https://jupyterlab.readthedocs.io/en/stable/) workbench\n",
    "- Graph analysis toolkits\n",
    "    - [NetworkX](https://networkx.org/)\n",
    "    - [graph-tool](https://graph-tool.skewed.de/)\n",
    "    - [igraph](https://igraph.org/)\n",
    "    - [Networkit](https://networkit.github.io/)\n",
    "- Interactive Visualization\n",
    "    - [ipycytoscape](https://ipycytoscape.readthedocs.io/en/latest/)\n",
    "    - Plotly [Dash](https://dash.plotly.com/), [JupyterDash](https://medium.com/plotly/introducing-jupyterdash-811f1f57c02e), and [Dash Cytoscape](https://dash.plotly.com/cytoscape)\n",
    "\n",
    "# This is a VERY brief introduction\n",
    "If you use combination of these tools, you can automate the large graph analysis / visualization workflow without leaving the notebook.\n",
    "\n",
    "----\n",
    "\n",
    "## Hands-on Tutorial\n",
    "\n",
    "- Install [Docker Desktop](https://www.docker.com/products/docker-desktop)\n",
    "- Clone / download this repository\n",
    "- Run the following command to start notebook\n",
    "\n",
    "> docker-compose up\n",
    "\n",
    "![](images/how_this_works.png)\n",
    "\n",
    "### Note: Cytoscape Desktop will NOT be used in this example\n",
    "\n",
    "----"
   ]
  },
  {
   "cell_type": "code",
   "execution_count": null,
   "id": "88d26ecd-b2ca-4836-8ec6-5e9d5df98074",
   "metadata": {},
   "outputs": [],
   "source": [
    "# Check Python version (this workflow is for 3.x only)\n",
    "!python3 --version"
   ]
  },
  {
   "cell_type": "markdown",
   "id": "b709ae28-bb8b-46e6-ae9d-41350bd39856",
   "metadata": {},
   "source": [
    "## Dependencies\n",
    "\n",
    "This Docker image contains a lot of libraries. You can install these directly into your laptop, but I recommend to use the container for now (some of the libraries are bit tricky to install)"
   ]
  },
  {
   "cell_type": "code",
   "execution_count": null,
   "id": "48c81e6e-6a89-4b2c-b1e5-f4f902bf4e60",
   "metadata": {},
   "outputs": [],
   "source": [
    "%matplotlib inline\n",
    "import matplotlib.pyplot as plt\n",
    "\n",
    "import networkit as nk\n",
    "\n",
    "from graph_tool.all import *\n",
    "\n",
    "import json\n",
    "import ndex2\n",
    "\n",
    "import ipycytoscape\n",
    "\n",
    "import ipywidgets as widgets\n",
    "\n",
    "import networkx as nx\n",
    "\n",
    "import ipywidgets as widgets\n",
    "\n",
    "import numpy as np\n",
    "import pandas as pd\n",
    "import seaborn as sns"
   ]
  },
  {
   "cell_type": "markdown",
   "id": "271578ea-aa80-429e-b880-4645e35338c2",
   "metadata": {},
   "source": [
    "# 1. Data Import from NDEx\n",
    "\n",
    "## NDEx2 Python client\n",
    "\n",
    "You can use _ndex2_ Python client library for directly fetching network data from [NDEx](https://www.ndexbio.org)\n",
    "\n",
    "### Search NDEx database\n",
    "(You can skip this step if you already have network data)\n",
    "\n",
    "- If you want to batch-process networks in NDEx server, you can use this client to search & fetch data in CX\n",
    "- There are amy ways to get networks you need.  Please referer the documentation for more details\n",
    "\n",
    "#### Potential new tool idea\n",
    " - Higher-level utility funciton for search & filter the search results? "
   ]
  },
  {
   "cell_type": "code",
   "execution_count": null,
   "id": "1094a81b-ef95-4fff-92ea-4a235a3995e8",
   "metadata": {},
   "outputs": [],
   "source": [
    "# Create NDEx2 python client\n",
    "nc2 = ndex2.client.Ndex2()\n",
    "\n",
    "# Search COVID-related networks using free-keyword\n",
    "response1 = nc2.search_networks('covid*')\n",
    "print('Found: ' + str(response1['numFound']) + ' entries')"
   ]
  },
  {
   "cell_type": "code",
   "execution_count": null,
   "id": "3660724b-e03c-449f-a27c-0e544385dd02",
   "metadata": {},
   "outputs": [],
   "source": [
    "# Filter & sort the result (networks with more than 500 edges)\n",
    "MIN_EGDE_COUNT = 100\n",
    "\n",
    "networks = response1['networks']\n",
    "large_networks = filter(lambda net: net['edgeCount'] > MIN_EGDE_COUNT, networks)\n",
    "lg_sorted = sorted(large_networks, key=lambda net: int(net['edgeCount']))\n",
    "\n",
    "# Display the result (name, size, and UUID)\n",
    "for net in lg_sorted:\n",
    "    print(net['name'] + ': (node, edge) = (' + str(net['nodeCount']) + ', ' + str(net['edgeCount']) + ') ' + net['externalId'])"
   ]
  },
  {
   "cell_type": "markdown",
   "id": "589f0ecf-1192-4778-a296-54173258c864",
   "metadata": {},
   "source": [
    "## Fetch data from NDEx\n"
   ]
  },
  {
   "cell_type": "code",
   "execution_count": null,
   "id": "57ab5f17-9036-42b0-b780-c0f20eac9c3f",
   "metadata": {},
   "outputs": [],
   "source": [
    "# Pick one of the results\n",
    "COVID_PPI_UUID = lg_sorted[0]['externalId']\n",
    "\n",
    "# Download BioGRID: Protein-Protein Interactions (SARS-CoV) from NDEx\n",
    "response1 = nc2.get_network_as_cx_stream(COVID_PPI_UUID)\n",
    "\n",
    "# Convert downloaded network to NiceCXNetwork object\n",
    "cov_cx = ndex2.create_nice_cx_from_raw_cx(json.loads(response1.content))\n",
    "\n",
    "# Display information about network and output 1st 100 characters of CX\n",
    "cov_cx.print_summary()"
   ]
  },
  {
   "cell_type": "markdown",
   "id": "6f98cbea-d286-4514-9419-c7ef6eb0e689",
   "metadata": {},
   "source": [
    "## Convert CX to other data formats\n",
    "\n",
    "- NetworkX\n",
    "- pandas (Data Frame)\n",
    "- dot (Graphviz)\n",
    "- Cytoscape.js"
   ]
  },
  {
   "cell_type": "code",
   "execution_count": null,
   "id": "6b26e744-9e9a-4cd9-be82-e05798761494",
   "metadata": {},
   "outputs": [],
   "source": [
    "# To pandas dataframe (NDEx2's built-in function)\n",
    "df1 = cov_cx.to_pandas_dataframe()\n",
    "df1"
   ]
  },
  {
   "cell_type": "markdown",
   "id": "e953a0d4-f17a-40d7-8369-6ebb5f448795",
   "metadata": {},
   "source": [
    "#### It is a good idea to clean / modify the data in this form\n",
    "- Join other data sets, filter errors, etc.\n",
    "- There are tons of documentation and utilities to edit your data in pandas\n",
    "- Once the data is complete, convert to more graph-library-friendly formats (discussed below)"
   ]
  },
  {
   "cell_type": "markdown",
   "id": "cd20a4f6-8ce8-43b5-9c16-1f24034176cf",
   "metadata": {},
   "source": [
    "### NertworkX"
   ]
  },
  {
   "cell_type": "code",
   "execution_count": null,
   "id": "47f22613-980c-4f7e-87d6-78598ab89b88",
   "metadata": {},
   "outputs": [],
   "source": [
    "# Create Networkx network\n",
    "nx_graph = cov_cx.to_networkx(mode='default')\n",
    "nx.info(nx_graph)"
   ]
  },
  {
   "cell_type": "code",
   "execution_count": null,
   "id": "d3196b84-9be8-4692-85b3-8d3a6ba128ab",
   "metadata": {},
   "outputs": [],
   "source": [
    "# Draw it with default params\n",
    "pos = nx.nx_agraph.graphviz_layout(nx_graph, prog='sfdp')\n",
    "nx.draw(nx_graph, pos=pos, with_labels=True)"
   ]
  },
  {
   "cell_type": "markdown",
   "id": "eea2a0d0-2036-4d0d-add0-60f8c2976fb2",
   "metadata": {},
   "source": [
    "#### Pros\n",
    "- Easy to use\n",
    "- Well-documented\n",
    "- Access to many layout algorithms\n",
    "\n",
    "#### Cons\n",
    "- **Slow**\n",
    "- Hard to set complex styling\n",
    "    - If you are an expert of its API, you can create complex styling, but it is not data-driven\n",
    "\n",
    "### igraph"
   ]
  },
  {
   "cell_type": "code",
   "execution_count": null,
   "id": "c1ef42eb-cde8-48d4-be6f-2eefc778ccde",
   "metadata": {},
   "outputs": [],
   "source": [
    "# Use NetworkX as a data converter\n",
    "temp_file_name = 'from_nx.graphml'\n",
    "nx.write_graphml(nx_graph, temp_file_name)\n",
    "\n",
    "# Then load it to igraph\n",
    "from igraph import *\n",
    "i_graph1 = Graph.Read_GraphML(temp_file_name)\n",
    "\n",
    "# Simple visualization\n",
    "layout = i_graph1.layout(\"kk\") # Apply Kamada-Kawai\n",
    "plot(i_graph1, layout=layout)"
   ]
  },
  {
   "cell_type": "markdown",
   "id": "511fe3b3-ac69-4c73-afdf-8d0ecfe0be3b",
   "metadata": {},
   "source": [
    "#### Pros\n",
    "- Well-documented\n",
    "- Access to many graph analysis algorithms\n",
    "- Fast (core is written in C)\n",
    "\n",
    "#### Cons\n",
    "- A bit weired API (from Python programmer's point of view, because it was originally optyimized for R)\n",
    "- Hard to set complex styling\n",
    "    - Not data-driven.  You need to write your own mapping functions from data points to visual variables (color, size, shape, etc.)\n",
    "\n",
    "### graph-tool"
   ]
  },
  {
   "cell_type": "markdown",
   "id": "1b08dc32-6fa0-4af3-bcdd-c45b5280cce2",
   "metadata": {},
   "source": [
    "### Why graph-tool?\n",
    "- **MUCH** faster than NetworkX\n",
    "    - It is simply wast of energy (computing resource) if you use NetworkX in your production code that processes a lot of data (see below)\n",
    "\n",
    "![comparison](https://github.com/timlrx/graph-benchmarks/blob/master/runtime_results.png?raw=true)\n",
    "\n",
    "The benchmark above is from [this report](https://www.timlrx.com/blog/benchmark-of-popular-graph-network-packages-v2)\n",
    "\n",
    "#### Pros\n",
    "- Well-documented\n",
    "- Access to many graph analysis algorithms\n",
    "    - including community detections\n",
    "- Fast (core is written in C++)\n",
    "- Optimized for multi-core machines\n",
    "\n",
    "#### Cons\n",
    "- VERY hard to install if you install to bare metal machines\n",
    "    - They recommend to use official docker image\n",
    "- Has some data-driven preset visualizations, but in most cases, you need to tweak manually\n",
    "\n",
    "##### Use NetworkX as a graph-format utility library\n",
    "- NetworkX is VERY slow, but a great format converter\n",
    "    - It supports:\n",
    "        - Cytoscape.js format\n",
    "        - DOT\n",
    "        - GML\n",
    "        - GraphML\n",
    "        - Edge List\n",
    "        - Pandas Data frame\n",
    "    - Users can use NetworkX as a format converter for network data sets\n",
    "    - graph-tool can read standard format like GraphML"
   ]
  },
  {
   "cell_type": "code",
   "execution_count": null,
   "id": "633a14d4-a3b5-4ce6-a5bd-126b655b4e59",
   "metadata": {},
   "outputs": [],
   "source": [
    "# Pick a larger network\n",
    "COVID_PPI_UUID_L = lg_sorted[20]['externalId']\n",
    "response2 = nc2.get_network_as_cx_stream(COVID_PPI_UUID_L)\n",
    "cov_cx2 = ndex2.create_nice_cx_from_raw_cx(json.loads(response2.content))\n",
    "\n",
    "# Display information about network and output 1st 100 characters of CX\n",
    "cov_cx2.print_summary()"
   ]
  },
  {
   "cell_type": "code",
   "execution_count": null,
   "id": "20430aca-f90a-4cd9-9ac8-6a571312363e",
   "metadata": {},
   "outputs": [],
   "source": [
    "# From NetworkX object To DOT (Graphviz format)\n",
    "DOT1 = 'temp-prepared.dot'\n",
    "nx_graph_l = cov_cx2.to_networkx()\n",
    "nx.nx_agraph.write_dot(nx_graph_l, DOT1)\n",
    "\n",
    "# Create a graph-tool network object　from DOT\n",
    "gt_1 = load_graph(DOT1)\n",
    "\n",
    "# Apply stochastic block model (SBM) to get graph partitions \n",
    "state = minimize_blockmodel_dl(gt_1)\n",
    "\n",
    "# Draw the graph using the result above\n",
    "state.draw(output_size=(1200, 1200), edge_pen_width=1)"
   ]
  },
  {
   "cell_type": "code",
   "execution_count": null,
   "id": "f90f9443-5630-4167-935c-b3321bbf7cce",
   "metadata": {},
   "outputs": [],
   "source": [
    "# TODO: apply custom color palette from seaborn\n",
    "pal1 = sns.color_palette()\n",
    "list1 = state.get_blocks().get_array()\n",
    "pal1"
   ]
  },
  {
   "cell_type": "code",
   "execution_count": null,
   "id": "82e7a4d7-d08a-4808-bb5f-af098f614ba9",
   "metadata": {},
   "outputs": [],
   "source": [
    "def get_color(idx):\n",
    "    rgb = pal1[idx%10]\n",
    "    return [rgb[0], rgb[1], rgb[2], 1]"
   ]
  },
  {
   "cell_type": "code",
   "execution_count": null,
   "id": "00a1a819-3a1a-47a6-a3be-595f3219e232",
   "metadata": {},
   "outputs": [],
   "source": [
    "# Export as image file\n",
    "import matplotlib\n",
    "\n",
    "# Apply SFDP layout\n",
    "pos1 = sfdp_layout(gt_1)\n",
    "\n",
    "# Generate PDF (vector)\n",
    "graph_draw(gt_1, pos1, output_size=(1000, 1000), vertex_color=[10,1,1,0],\n",
    "           vertex_size=2, edge_pen_width=0.2,\n",
    "           vcmap=matplotlib.cm.gist_heat_r, output=\"covid2.pdf\")\n",
    "\n",
    "# Generate PNG (bitmap)\n",
    "graph_draw(gt_1, pos1, output_size=(1000, 1000), vertex_color=[10,1,1,0],\n",
    "           vertex_size=2, edge_pen_width=0.2,\n",
    "           vcmap=matplotlib.cm.gist_heat_r, output=\"covid2.png\")"
   ]
  },
  {
   "cell_type": "code",
   "execution_count": null,
   "id": "f5c28d9c-7f2f-4f01-bc31-db8e27bae31f",
   "metadata": {},
   "outputs": [],
   "source": [
    "from IPython import display\n",
    "display.Image(\"./covid2.png\")"
   ]
  },
  {
   "cell_type": "markdown",
   "id": "8d889956-5aaa-470c-868a-3ead6bad7d76",
   "metadata": {},
   "source": [
    "### graph-tool summary\n",
    "- Great for large network analysis\n",
    "- Styling is not easy to use\n",
    "\n",
    "## Graph analysis with Networkit\n",
    "\n",
    "### Pros\n",
    "- Fast - large network analysis in mind\n",
    "- Algorithms from relatively new papers are implemented\n",
    "- Great library to implement your own algorithm in C++\n",
    "\n",
    "### Cons\n",
    "- No visualization function\n",
    "    - Need to convert and draw in other libraries "
   ]
  },
  {
   "cell_type": "code",
   "execution_count": null,
   "id": "58694537-c2e1-4def-a7cd-e7dd0d07a738",
   "metadata": {},
   "outputs": [],
   "source": [
    "NEST_UUID = '60112105-f853-11e9-bb65-0ac135e8bacf'\n",
    "response3 = nc2.get_network_as_cx_stream(NEST_UUID)\n",
    "nest_cx = ndex2.create_nice_cx_from_raw_cx(json.loads(response3.content))\n",
    "\n",
    "# Display information about network and output 1st 100 characters of CX\n",
    "nest_cx.print_summary()"
   ]
  },
  {
   "cell_type": "code",
   "execution_count": null,
   "id": "99c73c8e-f9d7-4eec-9182-d1a29d142f9d",
   "metadata": {},
   "outputs": [],
   "source": [
    "nest_nx = nest_cx.to_networkx()\n",
    "nx.write_graphml(nest_nx, 'temp.graphml')\n",
    "nkg = nk.readGraph('temp.graphml', nk.Format.GraphML)\n",
    "nk.overview(nkg)"
   ]
  },
  {
   "cell_type": "code",
   "execution_count": null,
   "id": "894de21e-b943-4d3d-9a77-71a0546c150e",
   "metadata": {},
   "outputs": [],
   "source": [
    "# Simple degree distribution plot\n",
    "degree_dist = nk.centrality.DegreeCentrality(nkg).run().scores()\n",
    "dd = sorted(degree_dist, reverse=True)\n",
    "plt.xlabel(\"degree\")\n",
    "plt.ylabel(\"number of nodes\")\n",
    "plt.plot(dd)\n",
    "plt.show()"
   ]
  },
  {
   "cell_type": "code",
   "execution_count": null,
   "id": "126c17e6-e4d5-43aa-8410-3356a4383a21",
   "metadata": {},
   "outputs": [],
   "source": [
    "com1 = nk.community.detectCommunities(nkg, algo=nk.community.PLM(nkg, True))"
   ]
  },
  {
   "cell_type": "code",
   "execution_count": null,
   "id": "fd2201d4-0e08-4f2f-a9c9-6540dd6370c4",
   "metadata": {},
   "outputs": [],
   "source": [
    "membership11 = com1.getMembers(10)\n",
    "print(membership11)"
   ]
  },
  {
   "cell_type": "code",
   "execution_count": null,
   "id": "c775213a-b292-4bb6-a750-789e2004451a",
   "metadata": {},
   "outputs": [],
   "source": [
    "sizes = com1.subsetSizes()\n",
    "sizes.sort(reverse=True)\n",
    "plt.xlabel(\"Community ID\")\n",
    "plt.ylabel(\"Size of the cluster\")\n",
    "plt.plot(sizes)\n",
    "plt.show()"
   ]
  },
  {
   "cell_type": "markdown",
   "id": "f878b029-8ac0-46c1-8fe2-e03cf949db9e",
   "metadata": {},
   "source": [
    "----\n",
    "\n",
    "# Interactrive Visualization\n",
    "\n",
    "## ipycytoscape\n",
    "- A simple library to embed Cytoscape.js instance in a cell"
   ]
  },
  {
   "cell_type": "code",
   "execution_count": null,
   "id": "ded9dc46-5acb-436a-944e-761fa803a066",
   "metadata": {},
   "outputs": [],
   "source": [
    "viz1 = ipycytoscape.CytoscapeWidget()\n",
    "viz1.graph.add_graph_from_networkx(nx_graph)\n",
    "viz1.set_layout(name='cose')\n",
    "viz1"
   ]
  },
  {
   "cell_type": "markdown",
   "id": "b0f89359-5a98-4419-9737-5bdd5cd27c15",
   "metadata": {},
   "source": [
    "### Pros\n",
    "- Simple\n",
    "- Easy to use for small network visualization\n",
    "\n",
    "### Cons\n",
    "- No built-in support for visual style\n",
    "- Interactivity\n",
    "  - Editing style should be done manually (with Python coding)"
   ]
  },
  {
   "cell_type": "code",
   "execution_count": null,
   "id": "16331a49-fcb0-41db-abfb-3709e0ffdef5",
   "metadata": {},
   "outputs": [],
   "source": [
    "# Use external service to generate style\n"
   ]
  },
  {
   "cell_type": "code",
   "execution_count": null,
   "id": "bcd47e34-4151-4d0f-b6a6-d85948468ec8",
   "metadata": {},
   "outputs": [],
   "source": [
    "# Convert the result to CX, and then convert to Cytoscape.js elements and Visual Style\n",
    "import requests as rq\n",
    "\n",
    "# Convert to CX as dict\n",
    "MUSIC_ID = '7fc70ab6-9fb1-11ea-aaef-0ac135e8bacf'\n",
    "response3 = nc2.get_network_as_cx_stream(MUSIC_ID)\n",
    "cov_cx3 = ndex2.create_nice_cx_from_raw_cx(json.loads(response3.content))\n",
    "cx3 = cov_cx3.to_cx()\n",
    "\n",
    "headers = {\"charset\": \"utf-8\", \"Content-Type\": \"application/json\"}\n",
    "res = rq.post(\"http://network-api:3000/cx\", json=cx3, headers=headers)\n",
    "cyjs_json = res.json()\n",
    "\n",
    "viz2 = ipycytoscape.CytoscapeWidget()\n",
    "viz2.graph.add_graph_from_json(cyjs_json['elements'])\n",
    "viz2.set_layout(name='preset')\n",
    "viz2.set_style(cyjs_json['style'])\n",
    "viz2"
   ]
  },
  {
   "cell_type": "markdown",
   "id": "6cee7af4-44c6-457b-b569-3d9d82ee41c2",
   "metadata": {},
   "source": [
    "## Data-Driven styling\n",
    "\n",
    "### Limitation\n",
    "Currently, there is no high-level, interactive toolkit to generate data-driven styles\n",
    "\n",
    "- What kind of features do we need?\n",
    "\n",
    "\n"
   ]
  },
  {
   "cell_type": "markdown",
   "id": "53618016-bc62-466b-b6a2-f722fda6072e",
   "metadata": {
    "tags": []
   },
   "source": [
    "- A bit weired API (from Python programmer's point of view, because it was originally optyimized for R)\n",
    "# Interactive Dashboards with Plotly Dash\n",
    "\n",
    "## What's Dash?\n",
    "- An open source project \n",
    "- The basic function of Dash is building an web application for data dashboard\n",
    "- VERY high-level API\n",
    "    - You can create basic visualization/ UI components withwout writing JavaScript code \n",
    "\n",
    "## What's JupyterDash?\n",
    "- You can embed an interactive application as a cell/panel in Jupyter Lab\n",
    "- Great integration to existing notebooks\n",
    "\n",
    "## What's Dash Cytoscape?\n",
    "- A Cytoscape.js-based visualization library\n",
    "- Can be controlled by Python code\n",
    "\n",
    "\n",
    "### As far as I know, this is the best combination to create interactive network images embedded in the notebook environment"
   ]
  },
  {
   "cell_type": "code",
   "execution_count": null,
   "id": "be31c517-f7b2-4f6b-92d0-a511493bddab",
   "metadata": {},
   "outputs": [],
   "source": [
    "# Import Dash-related dependencies\n",
    "from jupyter_dash import JupyterDash\n",
    "import dash\n",
    "from dash import html\n",
    "import dash_daq as daq\n",
    "import dash_cytoscape as cyto\n",
    "\n",
    "# UI components for Dash\n",
    "from dash import dcc\n",
    "from dash.dependencies import Input, Output\n",
    "\n",
    "# enable svg export\n",
    "cyto.load_extra_layouts()\n",
    "\n",
    "elements = cyjs_json['elements']\n",
    "visual_style = cyjs_json['style']\n",
    "\n",
    "vs_updated = []\n",
    "for entry in visual_style:\n",
    "    vs_updated.append({\n",
    "        'selector': entry['selector'],\n",
    "        'style': entry['css']\n",
    "    })    "
   ]
  },
  {
   "cell_type": "code",
   "execution_count": null,
   "id": "f47babe0-c7a7-4f69-b1e7-2015fff8c5dd",
   "metadata": {},
   "outputs": [],
   "source": [
    "app = JupyterDash(__name__)\n",
    "\n",
    "# For layout selector\n",
    "layout_names = [\n",
    "    {\"label\": \"Preset\", \"value\": \"preset\"},\n",
    "    {\"label\": \"Circle\", \"value\": \"circle\"},\n",
    "    {\"label\": \"COSE\", \"value\": \"cose\"},\n",
    "    {\"label\": \"Breadth-First\", \"value\": \"breadthfirst\"}\n",
    "]\n",
    "\n",
    "layout_selector_style = {\"margin-bottom\": \"1em\"}\n",
    "\n",
    "cyto_cp = cyto.Cytoscape(\n",
    "    id=\"cyto-cp\",\n",
    "    style={\"width\": \"100%\", \"height\": \"500px\", \"background\": '#EFEFEF'},\n",
    "    elements=elements,\n",
    "    layout={\"name\": \"preset\"},\n",
    "    stylesheet=vs_updated\n",
    ")\n",
    "\n",
    "app.layout = html.Div(\n",
    "    [\n",
    "        html.H2(\"CX Network in Dash\"),\n",
    "        html.P(\"BG Color widget example\"),\n",
    "        dcc.Slider(\n",
    "            id='color-slider',\n",
    "            min=0,\n",
    "            max=255,\n",
    "            step=1,\n",
    "            value=255,\n",
    "        ),\n",
    "        html.Div(id='slider-output-container'),\n",
    "        dcc.Dropdown(\n",
    "            id=\"layout-selector\",\n",
    "            options=layout_names,\n",
    "            value='preset',\n",
    "            style=layout_selector_style\n",
    "        ),\n",
    "        cyto_cp,\n",
    "        html.Div('Download network image as:'),\n",
    "        dcc.Dropdown(\n",
    "            id=\"image-type-selector\",\n",
    "            options=[{\"label\": \"SVG\", \"value\": \"svg\"}, {\"label\": \"PNG\", \"value\": \"png\"}],\n",
    "            value='png',\n",
    "        ),\n",
    "        html.Button(\"Download\", id=\"btn-get-svg\")\n",
    "    ]\n",
    ")\n",
    "\n",
    "# Callback function for interaction\n",
    "@app.callback(\n",
    "    Output(\"cyto-cp\", \"layout\"),\n",
    "    [Input(\"layout-selector\", \"value\")],\n",
    ")\n",
    "def update_layout(layout_name):\n",
    "    new_layout = {\n",
    "        \"name\": layout_name,\n",
    "        \"animate\": True,\n",
    "    }\n",
    "\n",
    "    return new_layout\n",
    "\n",
    "@app.callback(\n",
    "    Output(\"cyto-cp\", \"generateImage\"),\n",
    "    [\n",
    "        Input(\"btn-get-svg\", \"n_clicks\"),\n",
    "    ])\n",
    "def get_image(get_svg_clicks):\n",
    "\n",
    "    ftype = 'svg'\n",
    "\n",
    "    # 'store': Stores the image data in 'imageData' !only jpg/png are supported\n",
    "    # 'download'`: Downloads the image as a file with all data handling\n",
    "    # 'both'`: Stores image data and downloads image as file.\n",
    "    action = 'download'\n",
    "\n",
    "    ctx = dash.callback_context\n",
    "    if ctx.triggered:\n",
    "        return {\n",
    "            'type': ftype,\n",
    "            'action': action\n",
    "        }\n",
    "    else:\n",
    "        return {\n",
    "        }\n",
    "\n",
    "\n",
    "@app.callback(\n",
    "    dash.dependencies.Output('cyto-cp', 'style'),\n",
    "    [dash.dependencies.Input('color-slider', 'value')])\n",
    "def update_size(color):\n",
    "    new_style = {\n",
    "        \"width\": \"100%\",\n",
    "        \"height\": \"500px\", \n",
    "        \"background\": \"rgba(\" + str(color) +',' + str(color) + ',' + str(color) + ',200)'\n",
    "    }\n",
    "    \n",
    "    return new_style\n",
    "\n",
    "\n",
    "# Activate\n",
    "app.run_server(mode='jupyterlab', host=\"0.0.0.0\", port=8050, dev_tools_ui=True)"
   ]
  },
  {
   "cell_type": "markdown",
   "id": "d2fbcd4f-d081-4e10-a65f-6dd50e58978a",
   "metadata": {},
   "source": [
    "# Discussion\n",
    "## What are the missing links to create smooth workflow?\n",
    "\n",
    "- Style Conversion from CX\n",
    "- **Portable Style**\n",
    "- Custom Dash component for typical use\n",
    "    - Layout selector\n",
    "    - **Style Editor**\n",
    "        - Mappings\n",
    "\n",
    "# Summary\n",
    "\n",
    "## Recommendations for task types\n",
    "\n",
    "### Data Format Conversion / Data Wrangling\n",
    "    - NetworkX\n",
    "    - Pandas\n",
    "    \n",
    "### Graph Analysis\n",
    "    - graph-tool\n",
    "    - Networkit\n",
    "    - igraph\n",
    "\n",
    "### Visualization\n",
    "    - graph-tool\n",
    "\n",
    "### Interactive visualization\n",
    "    - Dash Cytoscape\n",
    "    \n",
    "\n",
    "# TODO\n",
    "- How can we pass the style information around?"
   ]
  }
 ],
 "metadata": {
  "kernelspec": {
   "display_name": "Python 3 (ipykernel)",
   "language": "python",
   "name": "python3"
  },
  "language_info": {
   "codemirror_mode": {
    "name": "ipython",
    "version": 3
   },
   "file_extension": ".py",
   "mimetype": "text/x-python",
   "name": "python",
   "nbconvert_exporter": "python",
   "pygments_lexer": "ipython3",
   "version": "3.9.5"
  }
 },
 "nbformat": 4,
 "nbformat_minor": 5
}
