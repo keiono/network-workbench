{
 "cells": [
  {
   "cell_type": "code",
   "execution_count": 1,
   "id": "88d26ecd-b2ca-4836-8ec6-5e9d5df98074",
   "metadata": {},
   "outputs": [
    {
     "name": "stdout",
     "output_type": "stream",
     "text": [
      "Python 3.9.5\n"
     ]
    }
   ],
   "source": [
    "!python3 --version"
   ]
  },
  {
   "cell_type": "markdown",
   "id": "b709ae28-bb8b-46e6-ae9d-41350bd39856",
   "metadata": {},
   "source": [
    "## Dependencies\n",
    "\n",
    "This Docker image contains a lot of libraries. You can install these directly into your laptop, but I recommend to use the container for now (some of the libraries are bit tricky to install)"
   ]
  },
  {
   "cell_type": "code",
   "execution_count": 3,
   "id": "48c81e6e-6a89-4b2c-b1e5-f4f902bf4e60",
   "metadata": {},
   "outputs": [],
   "source": [
    "%matplotlib inline\n",
    "import matplotlib.pyplot as plt\n",
    "import networkit as nk\n",
    "\n",
    "from graph_tool.all import *\n",
    "import json\n",
    "import ndex2\n",
    "\n",
    "import ipycytoscape\n",
    "import ipywidgets as widgets\n",
    "import networkx as nx\n",
    "\n",
    "import ipywidgets as widgets\n",
    "\n",
    "import numpy as np\n",
    "import pandas as pd\n",
    "import seaborn as sns\n",
    "import matplotlib.pyplot as plt\n"
   ]
  }
 ],
 "metadata": {
  "kernelspec": {
   "display_name": "Python 3 (ipykernel)",
   "language": "python",
   "name": "python3"
  },
  "language_info": {
   "codemirror_mode": {
    "name": "ipython",
    "version": 3
   },
   "file_extension": ".py",
   "mimetype": "text/x-python",
   "name": "python",
   "nbconvert_exporter": "python",
   "pygments_lexer": "ipython3",
   "version": "3.9.5"
  }
 },
 "nbformat": 4,
 "nbformat_minor": 5
}
