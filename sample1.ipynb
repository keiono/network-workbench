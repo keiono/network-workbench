{
 "cells": [
  {
   "cell_type": "markdown",
   "id": "a0db260a-fa71-476b-afb4-025a8a88af03",
   "metadata": {},
   "source": [
    "# Graph Analysis and Visualization Tools in Notebook Environment\n",
    "\n",
    "## Lab Meeting (1/16/2022)\n",
    "### Keiichiro Ono (Ideker Lab Software Team)\n",
    "\n",
    "## Background\n"
   ]
  },
  {
   "cell_type": "code",
   "execution_count": 1,
   "id": "88d26ecd-b2ca-4836-8ec6-5e9d5df98074",
   "metadata": {},
   "outputs": [
    {
     "name": "stdout",
     "output_type": "stream",
     "text": [
      "Python 3.9.5\n"
     ]
    }
   ],
   "source": [
    "!python3 --version"
   ]
  },
  {
   "cell_type": "code",
   "execution_count": 3,
   "id": "48c81e6e-6a89-4b2c-b1e5-f4f902bf4e60",
   "metadata": {},
   "outputs": [
    {
     "name": "stderr",
     "output_type": "stream",
     "text": [
      "Unable to init server: Could not connect: Connection refused\n",
      "Unable to init server: Could not connect: Connection refused\n"
     ]
    }
   ],
   "source": [
    "from graph_tool.all import *\n",
    "import json\n",
    "import ndex2\n",
    "\n",
    "import ipycytoscape\n",
    "import ipywidgets as widgets\n",
    "import networkx as nx\n",
    "\n",
    "import ipywidgets as widgets\n",
    "\n",
    "import numpy as np\n",
    "import pandas as pd\n",
    "import seaborn as sns\n",
    "import matplotlib.pyplot as plt\n"
   ]
  },
  {
   "cell_type": "markdown",
   "id": "271578ea-aa80-429e-b880-4645e35338c2",
   "metadata": {},
   "source": [
    "# Data Import from NDEx\n",
    "\n",
    "## NDEx2 Python client"
   ]
  },
  {
   "cell_type": "code",
   "execution_count": 10,
   "id": "a2a5b6eb-b748-455c-b583-d2a632e42d4c",
   "metadata": {},
   "outputs": [
    {
     "name": "stdout",
     "output_type": "stream",
     "text": [
      "Name: Multi-Scale Integrated Cell (MuSIC) v1\n",
      "Number of nodes: 70\n",
      "Number of nodes: 87\n",
      "Generating CX\n",
      "[{\"numberVerification\": [{\"longNumber\": 281474976710655}]}, {\"metaData\": [{\"name\": \"nodes\", \"element\n"
     ]
    }
   ],
   "source": [
    "import json\n",
    "import ndex2\n",
    "\n",
    "\n",
    "# Create NDEx2 python client\n",
    "client = ndex2.client.Ndex2()\n",
    "\n",
    "# Download BioGRID: Protein-Protein Interactions (SARS-CoV) from NDEx\n",
    "# http://ndexbio.org/viewer/networks/669f30a3-cee6-11ea-aaef-0ac135e8bacf\n",
    "client_resp = client.get_network_as_cx_stream('7fc70ab6-9fb1-11ea-aaef-0ac135e8bacf')\n",
    "\n",
    "# Convert downloaded network to NiceCXNetwork object\n",
    "net_cx = ndex2.create_nice_cx_from_raw_cx(json.loads(client_resp.content))\n",
    "\n",
    "# Display information about network and output 1st 100 characters of CX\n",
    "print('Name: ' + net_cx.get_name())\n",
    "print('Number of nodes: ' + str(len(list(net_cx.get_nodes()))))\n",
    "print('Number of nodes: ' + str(len(list(net_cx.get_edges()))))\n",
    "print(json.dumps(net_cx.to_cx())[0:100])\n",
    "\n",
    "# Create Networkx network\n",
    "nxg1 = net_cx.to_networkx(mode='default')"
   ]
  },
  {
   "cell_type": "markdown",
   "id": "f878b029-8ac0-46c1-8fe2-e03cf949db9e",
   "metadata": {},
   "source": [
    "### Interactrive Visualization"
   ]
  },
  {
   "cell_type": "code",
   "execution_count": 11,
   "id": "ded9dc46-5acb-436a-944e-761fa803a066",
   "metadata": {},
   "outputs": [
    {
     "data": {
      "application/vnd.jupyter.widget-view+json": {
       "model_id": "f66848273f244c69af5ea1a9f11dcfaf",
       "version_major": 2,
       "version_minor": 0
      },
      "text/plain": [
       "CytoscapeWidget(cytoscape_layout={'name': 'cola'}, cytoscape_style=[{'selector': 'node', 'css': {'background-c…"
      ]
     },
     "metadata": {},
     "output_type": "display_data"
    }
   ],
   "source": [
    "viz1 = ipycytoscape.CytoscapeWidget()\n",
    "viz1.graph.add_graph_from_networkx(nxg1)\n",
    "display(viz1)"
   ]
  },
  {
   "cell_type": "markdown",
   "id": "b0f89359-5a98-4419-9737-5bdd5cd27c15",
   "metadata": {},
   "source": [
    "### Problem:\n",
    "- Visual Style is missing\n",
    "- Interactivity\n",
    "  - Editing style"
   ]
  },
  {
   "cell_type": "markdown",
   "id": "1f93c387-04b0-404e-ac7f-e34575a943a0",
   "metadata": {},
   "source": [
    "# NetworkX\n",
    "\n",
    "- Easy to install\n",
    "- Well documented\n",
    "- **Extremely slow**"
   ]
  },
  {
   "cell_type": "code",
   "execution_count": 4,
   "id": "6bef6371-3b6b-4b09-9c99-e83721f3b028",
   "metadata": {},
   "outputs": [
    {
     "data": {
      "application/vnd.jupyter.widget-view+json": {
       "model_id": "4879c279bb6f4fe798536938a7f1a01f",
       "version_major": 2,
       "version_minor": 0
      },
      "text/plain": [
       "IntSlider(value=0)"
      ]
     },
     "metadata": {},
     "output_type": "display_data"
    }
   ],
   "source": [
    "widgets.IntSlider()"
   ]
  },
  {
   "cell_type": "code",
   "execution_count": 3,
   "id": "fc667859-d00c-4842-8615-90edf130132e",
   "metadata": {},
   "outputs": [
    {
     "data": {
      "application/vnd.jupyter.widget-view+json": {
       "model_id": "53d6ad2b73ba4a37819be354c0620e4c",
       "version_major": 2,
       "version_minor": 0
      },
      "text/plain": [
       "CytoscapeWidget(cytoscape_layout={'name': 'cola'}, cytoscape_style=[{'selector': 'node', 'css': {'background-c…"
      ]
     },
     "metadata": {},
     "output_type": "display_data"
    }
   ],
   "source": [
    "g = Graph()\n",
    "\n",
    "G = nx.complete_graph(5)\n",
    "undirected = ipycytoscape.CytoscapeWidget()\n",
    "undirected.graph.add_graph_from_networkx(G)\n",
    "display(undirected)"
   ]
  }
 ],
 "metadata": {
  "kernelspec": {
   "display_name": "Python 3 (ipykernel)",
   "language": "python",
   "name": "python3"
  },
  "language_info": {
   "codemirror_mode": {
    "name": "ipython",
    "version": 3
   },
   "file_extension": ".py",
   "mimetype": "text/x-python",
   "name": "python",
   "nbconvert_exporter": "python",
   "pygments_lexer": "ipython3",
   "version": "3.9.5"
  }
 },
 "nbformat": 4,
 "nbformat_minor": 5
}
