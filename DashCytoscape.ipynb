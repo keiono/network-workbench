{
 "cells": [
  {
   "cell_type": "markdown",
   "id": "655f244e-31f3-4e9f-a894-f0a7d5a6e601",
   "metadata": {},
   "source": [
    "# Interactive Application\n",
    "\n",
    "## JupyterDash\n",
    "\n",
    "(TBD)"
   ]
  },
  {
   "cell_type": "code",
   "execution_count": 5,
   "id": "b766ab2c-5ed9-4f36-b0a7-5420c8f32401",
   "metadata": {},
   "outputs": [
    {
     "name": "stdout",
     "output_type": "stream",
     "text": [
      "Python 3.9.5\n"
     ]
    }
   ],
   "source": [
    "!python3 --version"
   ]
  },
  {
   "cell_type": "code",
   "execution_count": 22,
   "id": "9ba3f4a4-d606-41d2-9389-ff7cb1247f7d",
   "metadata": {},
   "outputs": [],
   "source": [
    "from jupyter_dash import JupyterDash\n",
    "import dash\n",
    "from dash import html\n",
    "import dash_cytoscape as cyto\n",
    "\n",
    "app = JupyterDash(__name__)\n",
    "\n",
    "cyto_compo = cyto.Cytoscape(\n",
    "    id=\"hello-dash-cyto\",\n",
    "    style={\"width\": \"100%\", \"height\": \"800px\", \"background\": '#EFEFEF'},\n",
    "    elements=[\n",
    "        {\"data\": {\"id\": \"A\"}},\n",
    "        {\"data\": {\"id\": \"B\"}},\n",
    "        # ❹ エッジの定義\n",
    "        {\"data\": {\"source\": \"A\", \"target\": \"B\", \"label\": \"A - B\"}},\n",
    "    ],\n",
    "    # ❺ ノード配置方法の定義\n",
    "    layout={\"name\": \"grid\"},\n",
    "    # ❻ スタイルの定義\n",
    "    stylesheet=[\n",
    "        # ❼ ノード全体に対するスタイル指定（グループセレクタ）\n",
    "        {\"selector\": \"node\", \"style\": {\"content\": \"data(id)\"}},\n",
    "        # ❽ ノードBに対するスタイル指定\n",
    "        {\"selector\": \"#B\", \"style\": {\"background-color\": \"red\"}},\n",
    "    ],\n",
    ")\n",
    "\n",
    "app.layout = html.Div([cyto_compo])\n",
    "\n",
    "# Activate\n",
    "app.run_server(mode='jupyterlab', host=\"0.0.0.0\", port=8050, dev_tools_ui=True)"
   ]
  }
 ],
 "metadata": {
  "kernelspec": {
   "display_name": "Python 3 (ipykernel)",
   "language": "python",
   "name": "python3"
  },
  "language_info": {
   "codemirror_mode": {
    "name": "ipython",
    "version": 3
   },
   "file_extension": ".py",
   "mimetype": "text/x-python",
   "name": "python",
   "nbconvert_exporter": "python",
   "pygments_lexer": "ipython3",
   "version": "3.9.5"
  }
 },
 "nbformat": 4,
 "nbformat_minor": 5
}
